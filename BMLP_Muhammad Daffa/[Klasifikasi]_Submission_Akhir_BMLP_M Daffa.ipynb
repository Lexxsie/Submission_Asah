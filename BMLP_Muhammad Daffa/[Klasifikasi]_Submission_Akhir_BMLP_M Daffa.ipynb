{
  "cells": [
    {
      "cell_type": "markdown",
      "metadata": {
        "id": "0tvAKGat01Sd"
      },
      "source": [
        "# **Penting**\n",
        "- Jangan mengubah atau menambahkan cell text yang sudah disediakan, Anda hanya perlu mengerjakan cell code yang sudah disediakan.\n",
        "- Pastikan seluruh kriteria memiliki output yang sesuai, karena jika tidak ada output dianggap tidak selesai.\n",
        "- Misal, Anda menggunakan df = df.dropna() silakan gunakan df.isnull().sum() sebagai tanda sudah berhasil. Silakan sesuaikan seluruh output dengan perintah yang sudah disediakan.\n",
        "- Pastikan Anda melakukan Run All sebelum mengirimkan submission untuk memastikan seluruh cell berjalan dengan baik.\n",
        "- Pastikan Anda menggunakan variabel df dari awal sampai akhir dan tidak diperbolehkan mengganti nama variabel tersebut.\n",
        "- Hapus simbol pagar (#) pada kode yang bertipe komentar jika Anda menerapkan kriteria tambahan\n",
        "- Biarkan simbol pagar (#) jika Anda tidak menerapkan kriteria tambahan\n",
        "- Pastikan Anda mengerjakan sesuai section yang sudah diberikan tanpa mengubah judul atau header yang disediakan."
      ]
    },
    {
      "cell_type": "markdown",
      "metadata": {
        "id": "fKADPWcFKlj3"
      },
      "source": [
        "# **1. Import Library**\n",
        "Pada tahap ini, Anda perlu mengimpor beberapa pustaka (library) Python yang dibutuhkan untuk analisis data dan pembangunan model machine learning."
      ]
    },
    {
      "cell_type": "code",
      "execution_count": 17,
      "metadata": {
        "id": "BlmvjLY9M4Yj"
      },
      "outputs": [],
      "source": [
        "#Type your code here\n",
        "import pandas as pd\n",
        "import numpy as np\n",
        "import seaborn as sns\n",
        "import matplotlib.pyplot as plt\n",
        "from sklearn.model_selection import train_test_split\n",
        "from sklearn.neighbors import KNeighborsClassifier\n",
        "from sklearn.tree import DecisionTreeClassifier\n",
        "from sklearn.ensemble import RandomForestClassifier\n",
        "from sklearn.svm import SVC\n",
        "from sklearn.ensemble import RandomForestRegressor\n",
        "from sklearn.metrics import mean_squared_error\n",
        "from sklearn.metrics import confusion_matrix, accuracy_score, precision_score, recall_score, f1_score\n",
        "from sklearn.model_selection import GridSearchCV"
      ]
    },
    {
      "cell_type": "markdown",
      "metadata": {
        "id": "f3YIEnAFKrKL"
      },
      "source": [
        "# **2. Memuat Dataset dari Hasil Clustering**\n",
        "Memuat dataset hasil clustering dari file CSV ke dalam variabel DataFrame."
      ]
    },
    {
      "cell_type": "code",
      "execution_count": 2,
      "metadata": {
        "id": "GHCGNTyrM5fS"
      },
      "outputs": [],
      "source": [
        "# Gunakan dataset hasil clustering yang memiliki fitur Target\n",
        "# Silakan gunakan dataset data_clustering jika tidak menerapkan Interpretasi Hasil Clustering [Advanced]\n",
        "# Silakan gunakan dataset data_clustering_inverse jika menerapkan Interpretasi Hasil Clustering [Advanced]\n",
        "# Lengkapi kode berikut\n",
        "# ___ = pd_read_csv(\"___.csv\")\n",
        "df = pd.read_csv(\"data_clustering.csv\")"
      ]
    },
    {
      "cell_type": "code",
      "execution_count": 3,
      "metadata": {
        "id": "bCsep0NZ0LUf"
      },
      "outputs": [
        {
          "data": {
            "text/html": [
              "<div>\n",
              "<style scoped>\n",
              "    .dataframe tbody tr th:only-of-type {\n",
              "        vertical-align: middle;\n",
              "    }\n",
              "\n",
              "    .dataframe tbody tr th {\n",
              "        vertical-align: top;\n",
              "    }\n",
              "\n",
              "    .dataframe thead th {\n",
              "        text-align: right;\n",
              "    }\n",
              "</style>\n",
              "<table border=\"1\" class=\"dataframe\">\n",
              "  <thead>\n",
              "    <tr style=\"text-align: right;\">\n",
              "      <th></th>\n",
              "      <th>TransactionAmount</th>\n",
              "      <th>TransactionDate</th>\n",
              "      <th>TransactionType</th>\n",
              "      <th>Location</th>\n",
              "      <th>Channel</th>\n",
              "      <th>CustomerAge</th>\n",
              "      <th>CustomerOccupation</th>\n",
              "      <th>TransactionDuration</th>\n",
              "      <th>LoginAttempts</th>\n",
              "      <th>AccountBalance</th>\n",
              "      <th>PreviousTransactionDate</th>\n",
              "      <th>TransactionAmount_binned</th>\n",
              "      <th>CustomerAge_binned</th>\n",
              "      <th>Target</th>\n",
              "    </tr>\n",
              "  </thead>\n",
              "  <tbody>\n",
              "    <tr>\n",
              "      <th>0</th>\n",
              "      <td>0.007207</td>\n",
              "      <td>0.273642</td>\n",
              "      <td>0.5</td>\n",
              "      <td>0.837209</td>\n",
              "      <td>0.000000</td>\n",
              "      <td>0.838710</td>\n",
              "      <td>0.00</td>\n",
              "      <td>0.244828</td>\n",
              "      <td>0.0</td>\n",
              "      <td>0.336832</td>\n",
              "      <td>0.291667</td>\n",
              "      <td>0</td>\n",
              "      <td>1</td>\n",
              "      <td>2</td>\n",
              "    </tr>\n",
              "    <tr>\n",
              "      <th>1</th>\n",
              "      <td>0.195940</td>\n",
              "      <td>0.474044</td>\n",
              "      <td>0.5</td>\n",
              "      <td>0.348837</td>\n",
              "      <td>0.000000</td>\n",
              "      <td>0.806452</td>\n",
              "      <td>0.00</td>\n",
              "      <td>0.451724</td>\n",
              "      <td>0.0</td>\n",
              "      <td>0.918055</td>\n",
              "      <td>0.533333</td>\n",
              "      <td>0</td>\n",
              "      <td>1</td>\n",
              "      <td>0</td>\n",
              "    </tr>\n",
              "    <tr>\n",
              "      <th>2</th>\n",
              "      <td>0.065680</td>\n",
              "      <td>0.507847</td>\n",
              "      <td>0.5</td>\n",
              "      <td>0.534884</td>\n",
              "      <td>0.666667</td>\n",
              "      <td>0.016129</td>\n",
              "      <td>0.75</td>\n",
              "      <td>0.158621</td>\n",
              "      <td>0.0</td>\n",
              "      <td>0.068637</td>\n",
              "      <td>0.113889</td>\n",
              "      <td>0</td>\n",
              "      <td>2</td>\n",
              "      <td>1</td>\n",
              "    </tr>\n",
              "    <tr>\n",
              "      <th>3</th>\n",
              "      <td>0.096016</td>\n",
              "      <td>0.329175</td>\n",
              "      <td>0.5</td>\n",
              "      <td>0.767442</td>\n",
              "      <td>0.666667</td>\n",
              "      <td>0.129032</td>\n",
              "      <td>0.75</td>\n",
              "      <td>0.051724</td>\n",
              "      <td>0.0</td>\n",
              "      <td>0.569198</td>\n",
              "      <td>0.452778</td>\n",
              "      <td>0</td>\n",
              "      <td>2</td>\n",
              "      <td>0</td>\n",
              "    </tr>\n",
              "    <tr>\n",
              "      <th>4</th>\n",
              "      <td>0.047888</td>\n",
              "      <td>0.255533</td>\n",
              "      <td>0.5</td>\n",
              "      <td>0.651163</td>\n",
              "      <td>0.000000</td>\n",
              "      <td>0.000000</td>\n",
              "      <td>0.75</td>\n",
              "      <td>0.558621</td>\n",
              "      <td>0.0</td>\n",
              "      <td>0.045738</td>\n",
              "      <td>0.036111</td>\n",
              "      <td>0</td>\n",
              "      <td>2</td>\n",
              "      <td>1</td>\n",
              "    </tr>\n",
              "  </tbody>\n",
              "</table>\n",
              "</div>"
            ],
            "text/plain": [
              "   TransactionAmount  TransactionDate  TransactionType  Location   Channel  \\\n",
              "0           0.007207         0.273642              0.5  0.837209  0.000000   \n",
              "1           0.195940         0.474044              0.5  0.348837  0.000000   \n",
              "2           0.065680         0.507847              0.5  0.534884  0.666667   \n",
              "3           0.096016         0.329175              0.5  0.767442  0.666667   \n",
              "4           0.047888         0.255533              0.5  0.651163  0.000000   \n",
              "\n",
              "   CustomerAge  CustomerOccupation  TransactionDuration  LoginAttempts  \\\n",
              "0     0.838710                0.00             0.244828            0.0   \n",
              "1     0.806452                0.00             0.451724            0.0   \n",
              "2     0.016129                0.75             0.158621            0.0   \n",
              "3     0.129032                0.75             0.051724            0.0   \n",
              "4     0.000000                0.75             0.558621            0.0   \n",
              "\n",
              "   AccountBalance  PreviousTransactionDate  TransactionAmount_binned  \\\n",
              "0        0.336832                 0.291667                         0   \n",
              "1        0.918055                 0.533333                         0   \n",
              "2        0.068637                 0.113889                         0   \n",
              "3        0.569198                 0.452778                         0   \n",
              "4        0.045738                 0.036111                         0   \n",
              "\n",
              "   CustomerAge_binned  Target  \n",
              "0                   1       2  \n",
              "1                   1       0  \n",
              "2                   2       1  \n",
              "3                   2       0  \n",
              "4                   2       1  "
            ]
          },
          "execution_count": 3,
          "metadata": {},
          "output_type": "execute_result"
        }
      ],
      "source": [
        "# Tampilkan 5 baris pertama dengan function head.\n",
        "df.head()"
      ]
    },
    {
      "cell_type": "markdown",
      "metadata": {
        "id": "KkPem5eWL2UP"
      },
      "source": [
        "# **3. Data Splitting**\n",
        "Tahap Data Splitting bertujuan untuk memisahkan dataset menjadi dua bagian: data latih (training set) dan data uji (test set)."
      ]
    },
    {
      "cell_type": "code",
      "execution_count": 8,
      "metadata": {
        "id": "OubAW-7ONKVj"
      },
      "outputs": [
        {
          "name": "stdout",
          "output_type": "stream",
          "text": [
            "Training set shape: X_train=(1833, 13), y_train=(1833,)\n",
            "Test set shape: x_test=(1833, 13), y_test(459,)\n"
          ]
        }
      ],
      "source": [
        "# Menggunakan df_test_split() untuk melakukan pembagian dfset.\n",
        "# pisahkan fitur (x) dan target (y)\n",
        "\n",
        "# pisahkan fitur (x) dan target (y)\n",
        "X = df.drop(columns=['Target'])\n",
        "y = df['Target']\n",
        "\n",
        "# split df menjadi set pelatihan dan uji\n",
        "X_train, x_test, y_train, y_test = train_test_split(X, y, test_size=0.2, random_state=42)\n",
        "\n",
        "# tampilkan bentuk set pelatihan dan set uji untuk memastikan split\n",
        "print(f\"Training set shape: X_train={X_train.shape}, y_train={y_train.shape}\")\n",
        "print(f\"Test set shape: x_test={X_train.shape}, y_test{y_test.shape}\")"
      ]
    },
    {
      "cell_type": "markdown",
      "metadata": {
        "id": "IVPbB03CMhTT"
      },
      "source": [
        "# **4. Membangun Model Klasifikasi**\n",
        "Setelah memilih algoritma klasifikasi yang sesuai, langkah selanjutnya adalah melatih model menggunakan data latih.\n",
        "\n",
        "Berikut adalah rekomendasi tahapannya.\n",
        "1. Menggunakan algoritma klasifikasi yaitu Decision Tree.\n",
        "2. Latih model menggunakan data yang sudah dipisah."
      ]
    },
    {
      "cell_type": "code",
      "execution_count": 9,
      "metadata": {},
      "outputs": [],
      "source": [
        "dt = DecisionTreeClassifier().fit(X_train, y_train)"
      ]
    },
    {
      "cell_type": "code",
      "execution_count": 10,
      "metadata": {
        "id": "4JYxBe87NLDk"
      },
      "outputs": [
        {
          "name": "stdout",
          "output_type": "stream",
          "text": [
            "                Model  Accuracy  Precision    Recall  F1-Score\n",
            "0  Decision Tree (DT)  0.978214    0.97827  0.978214  0.978234\n"
          ]
        }
      ],
      "source": [
        "# Buatlah model klasifikasi menggunakan Decision Tree\n",
        "# fungsi untuk mengevaluasi dan mengembalikan hasil kamus\n",
        "def evaluate_model(model, x_test, y_test):\n",
        "    y_pred = model.predict(x_test)\n",
        "    cm = confusion_matrix(y_test, y_pred)\n",
        "    result = {\n",
        "        'Confusion Matrix': cm,\n",
        "        'Accuracy': accuracy_score(y_test, y_pred),\n",
        "        'Precision': precision_score(y_test, y_pred, average='weighted'),\n",
        "        'Recall': recall_score(y_test, y_pred, average='weighted'),\n",
        "        'F1-Score': f1_score(y_test, y_pred, average='weighted')\n",
        "    }\n",
        "    return result\n",
        "# Mengevaluasi setiap model dan mengumpukan hasilnya\n",
        "results = {\n",
        "    'Decision Tree (DT)': evaluate_model(dt, x_test, y_test),\n",
        "}\n",
        "\n",
        "# Buat DataFrame untuk meringkas hasil\n",
        "summary_df = pd.DataFrame(columns=['Model', 'Accuracy', 'Precision', 'Recall', 'F1-Score'])\n",
        "\n",
        "# isi DataFrame dengan hasil\n",
        "rows = []\n",
        "for model_name, metrics in results.items():\n",
        "    rows.append({\n",
        "        'Model': model_name,\n",
        "        'Accuracy': metrics['Accuracy'],\n",
        "        'Precision': metrics['Precision'],\n",
        "        'Recall': metrics['Recall'],\n",
        "        'F1-Score': metrics['F1-Score']\n",
        "    })\n",
        "\n",
        "# konversi daftar kaus ke DataFrame\n",
        "summary_df = pd.DataFrame(rows)\n",
        "\n",
        "# tampilkan DatFrame\n",
        "print(summary_df)"
      ]
    },
    {
      "cell_type": "code",
      "execution_count": 11,
      "metadata": {
        "id": "P_AakAxghYv-"
      },
      "outputs": [
        {
          "data": {
            "text/plain": [
              "['decision_tree_model.h5']"
            ]
          },
          "execution_count": 11,
          "metadata": {},
          "output_type": "execute_result"
        }
      ],
      "source": [
        "# Menyimpan Model\n",
        "import joblib\n",
        "joblib.dump(summary_df, 'decision_tree_model.h5')"
      ]
    },
    {
      "cell_type": "markdown",
      "metadata": {
        "id": "epO4HhrzBXMg"
      },
      "source": [
        "# **5. Memenuhi Kriteria Skilled dan Advanced dalam Membangun Model Klasifikasi**\n",
        "\n"
      ]
    },
    {
      "cell_type": "markdown",
      "metadata": {
        "id": "DNOEZk24uiXu"
      },
      "source": [
        "**Biarkan kosong jika tidak menerapkan kriteria skilled atau advanced**"
      ]
    },
    {
      "cell_type": "code",
      "execution_count": 12,
      "metadata": {
        "id": "kB_8LIWMATl6"
      },
      "outputs": [
        {
          "name": "stdout",
          "output_type": "stream",
          "text": [
            "All models trained successfully!\n"
          ]
        }
      ],
      "source": [
        "# Melatih model menggunakan algoritma klasifikasi scikit-learn selain Decision Tree.\n",
        "# Random Forest\n",
        "rf_model = RandomForestClassifier(random_state=42)\n",
        "rf_model.fit(X_train, y_train)\n",
        "\n",
        "# Support Vector Machine\n",
        "svm_model = SVC(random_state=42)\n",
        "svm_model.fit(X_train, y_train)\n",
        "\n",
        "# K-Nearest Neighbors\n",
        "knn_model = KNeighborsClassifier()\n",
        "knn_model.fit(X_train, y_train)\n",
        "\n",
        "print(\"All models trained successfully!\")"
      ]
    },
    {
      "cell_type": "code",
      "execution_count": 13,
      "metadata": {
        "id": "bRlKm5BVAT91"
      },
      "outputs": [
        {
          "name": "stdout",
          "output_type": "stream",
          "text": [
            "Model Comparison:\n",
            "       Algorithm  Accuracy  Precision  Recall  F1-Score\n",
            "0  Random Forest    0.9804     0.9808  0.9804    0.9804\n",
            "1            SVM    0.9346     0.9385  0.9346    0.9342\n",
            "2            KNN    0.8736     0.8777  0.8736    0.8746\n"
          ]
        }
      ],
      "source": [
        "# Menampilkan hasil evaluasi akurasi, presisi, recall, dan F1-Score pada seluruh algoritma yang sudah dibuat.\n",
        "models = {\n",
        "    'Random Forest': rf_model,\n",
        "    'SVM': svm_model,\n",
        "    'KNN': knn_model\n",
        "}\n",
        "\n",
        "results = []\n",
        "for name, model_obj in models.items():\n",
        "    y_pred = model_obj.predict(x_test)\n",
        "    \n",
        "    accuracy = accuracy_score(y_test, y_pred)\n",
        "    precision = precision_score(y_test, y_pred, average='weighted')\n",
        "    recall = recall_score(y_test, y_pred, average='weighted')\n",
        "    f1 = f1_score(y_test, y_pred, average='weighted')\n",
        "    \n",
        "    results.append({\n",
        "        'Algorithm': name,\n",
        "        'Accuracy': accuracy,\n",
        "        'Precision': precision,\n",
        "        'Recall': recall,\n",
        "        'F1-Score': f1\n",
        "    })\n",
        "\n",
        "# Display results\n",
        "results_df = pd.DataFrame(results)\n",
        "print(\"Model Comparison:\")\n",
        "print(results_df.round(4))"
      ]
    },
    {
      "cell_type": "code",
      "execution_count": 14,
      "metadata": {
        "id": "dUPItkbXBNkO"
      },
      "outputs": [
        {
          "data": {
            "text/plain": [
              "['explore_KNN_classification.h5']"
            ]
          },
          "execution_count": 14,
          "metadata": {},
          "output_type": "execute_result"
        }
      ],
      "source": [
        "# Menyimpan Model Selain Decision Tree\n",
        "# Model ini bisa lebih dari satu\n",
        "import joblib\n",
        "joblib.dump(rf_model, 'explore_RandomForest_classification.h5')\n",
        "joblib.dump(svm_model, 'explore_SVM_classification.h5')\n",
        "joblib.dump(knn_model, 'explore_KNN_classification.h5')"
      ]
    },
    {
      "cell_type": "markdown",
      "metadata": {
        "id": "u23H2guj-h9h"
      },
      "source": [
        "Hyperparameter Tuning Model\n",
        "\n",
        "Pilih salah satu algoritma yang ingin Anda tuning"
      ]
    },
    {
      "cell_type": "code",
      "execution_count": 20,
      "metadata": {
        "id": "dFCTxJJq-m-l"
      },
      "outputs": [
        {
          "name": "stdout",
          "output_type": "stream",
          "text": [
            "Best parameters found:\n",
            "{'max_depth': None, 'min_samples_leaf': 1, 'min_samples_split': 2, 'n_estimators': 200}\n",
            "Best cross-validation score: 0.9798\n"
          ]
        }
      ],
      "source": [
        "# Lakukan Hyperparameter Tuning dan Latih ulang.\n",
        "# Lakukan dalam satu cell ini saja.\n",
        "param_grid = {\n",
        "    'n_estimators': [50, 100, 200],\n",
        "    'max_depth': [None, 10, 20],\n",
        "    'min_samples_split': [2, 5, 10],\n",
        "    'min_samples_leaf': [1, 2, 4]\n",
        "}\n",
        "\n",
        "# GridSearchCV untuk hyperparameter tuning\n",
        "grid_search = GridSearchCV(\n",
        "    estimator=RandomForestClassifier(random_state=42),\n",
        "    param_grid=param_grid,\n",
        "    cv=5,\n",
        "    scoring='accuracy',\n",
        "    n_jobs=-1\n",
        ")\n",
        "\n",
        "grid_search.fit(X_train, y_train)\n",
        "\n",
        "# Model terbaik dari tuning\n",
        "best_rf_model = grid_search.best_estimator_\n",
        "print(\"Best parameters found:\")\n",
        "print(grid_search.best_params_)\n",
        "print(f\"Best cross-validation score: {grid_search.best_score_:.4f}\")"
      ]
    },
    {
      "cell_type": "code",
      "execution_count": 21,
      "metadata": {
        "id": "1g6EPSSWxjcQ"
      },
      "outputs": [
        {
          "name": "stdout",
          "output_type": "stream",
          "text": [
            "\n",
            "Tuned Random Forest Performance:\n",
            "Accuracy: 0.9826\n",
            "Precision: 0.9828\n",
            "Recall: 0.9826\n",
            "F1-Score: 0.9826\n"
          ]
        }
      ],
      "source": [
        "# Menampilkan hasil evaluasi akurasi, presisi, recall, dan F1-Score pada algoritma yang sudah dituning.\n",
        "y_pred_tuned = best_rf_model.predict(x_test)\n",
        "\n",
        "tuned_accuracy = accuracy_score(y_test, y_pred_tuned)\n",
        "tuned_precision = precision_score(y_test, y_pred_tuned, average='weighted')\n",
        "tuned_recall = recall_score(y_test, y_pred_tuned, average='weighted')\n",
        "tuned_f1 = f1_score(y_test, y_pred_tuned, average='weighted')\n",
        "\n",
        "print(\"\\nTuned Random Forest Performance:\")\n",
        "print(f\"Accuracy: {tuned_accuracy:.4f}\")\n",
        "print(f\"Precision: {tuned_precision:.4f}\")\n",
        "print(f\"Recall: {tuned_recall:.4f}\")\n",
        "print(f\"F1-Score: {tuned_f1:.4f}\")"
      ]
    },
    {
      "cell_type": "code",
      "execution_count": 22,
      "metadata": {
        "id": "7UJNcVP--n7S"
      },
      "outputs": [
        {
          "data": {
            "text/plain": [
              "['tuning_classification.h5']"
            ]
          },
          "execution_count": 22,
          "metadata": {},
          "output_type": "execute_result"
        }
      ],
      "source": [
        "# Menyimpan Model hasil tuning\n",
        "import joblib\n",
        "joblib.dump(best_rf_model, 'tuning_classification.h5')"
      ]
    },
    {
      "cell_type": "markdown",
      "metadata": {
        "id": "0Hs4Xp4OiGEk"
      },
      "source": [
        "End of Code"
      ]
    }
  ],
  "metadata": {
    "colab": {
      "provenance": []
    },
    "kernelspec": {
      "display_name": "Python (py310)",
      "language": "python",
      "name": "py310"
    },
    "language_info": {
      "codemirror_mode": {
        "name": "ipython",
        "version": 3
      },
      "file_extension": ".py",
      "mimetype": "text/x-python",
      "name": "python",
      "nbconvert_exporter": "python",
      "pygments_lexer": "ipython3",
      "version": "3.10.18"
    }
  },
  "nbformat": 4,
  "nbformat_minor": 0
}
